{
  "nbformat": 4,
  "nbformat_minor": 0,
  "metadata": {
    "colab": {
      "name": "Untitled5.ipynb",
      "provenance": [],
      "collapsed_sections": [],
      "authorship_tag": "ABX9TyOiPVF8/nTtFwOX1J4CS4Pw",
      "include_colab_link": true
    },
    "kernelspec": {
      "name": "python3",
      "display_name": "Python 3"
    }
  },
  "cells": [
    {
      "cell_type": "markdown",
      "metadata": {
        "id": "view-in-github",
        "colab_type": "text"
      },
      "source": [
        "<a href=\"https://colab.research.google.com/github/rezanursyaifah/pemrograman-python/blob/main/Tugas12.ipynb\" target=\"_parent\"><img src=\"https://colab.research.google.com/assets/colab-badge.svg\" alt=\"Open In Colab\"/></a>"
      ]
    },
    {
      "cell_type": "code",
      "metadata": {
        "id": "vH14yFHGE5lU"
      },
      "source": [
        "import numpy as RezaNurSyaifah"
      ],
      "execution_count": 1,
      "outputs": []
    },
    {
      "cell_type": "code",
      "metadata": {
        "id": "QjR_IjEYFDMB"
      },
      "source": [
        "#c1_value = fc\r\n",
        "def c1(c1_value) :\r\n",
        "  if c1_value in range(400,1500) :\r\n",
        "    return 69.55\r\n",
        "  elif c1_value in range(1500,2000) :\r\n",
        "    return 46.3\r\n",
        "  else : return 0"
      ],
      "execution_count": 2,
      "outputs": []
    },
    {
      "cell_type": "code",
      "metadata": {
        "id": "eQ3CvcAAFHjc"
      },
      "source": [
        "#c2_value = fc\r\n",
        "def c2(c2_value):\r\n",
        "  if c2_value in range(400,1500):\r\n",
        "    return 26.16\r\n",
        "  elif c2_value in range(1500,2000):\r\n",
        "    return 33.9\r\n",
        "  else: return 0"
      ],
      "execution_count": 3,
      "outputs": []
    },
    {
      "cell_type": "code",
      "metadata": {
        "id": "OVSOGyugFLC-"
      },
      "source": [
        "def ahr(fc,hr):\r\n",
        "  x=(1.1*RezaNurSyaifah.log10(fc)-0.7)*hr-(1.56*RezaNurSyaifah.log10(fc)-0.8)\r\n",
        "  return x"
      ],
      "execution_count": 4,
      "outputs": []
    },
    {
      "cell_type": "code",
      "metadata": {
        "id": "9he-teaSFThU"
      },
      "source": [
        "#suburban\r\n",
        "SbN = lambda x: -2*RezaNurSyaifah.log10(x/28)*RezaNurSyaifah.log10(x/28)-5.4"
      ],
      "execution_count": 5,
      "outputs": []
    },
    {
      "cell_type": "code",
      "metadata": {
        "id": "uu_zdXkpFdFv"
      },
      "source": [
        "#open\r\n",
        "Op = lambda x: -4.78*RezaNurSyaifah.log10(x)*RezaNurSyaifah.log10(x)+18.33*log10(x)-40.94"
      ],
      "execution_count": 6,
      "outputs": []
    },
    {
      "cell_type": "code",
      "metadata": {
        "id": "gySJCJHgFoBC"
      },
      "source": [
        "def Ptl(fc,hT,hr,d,Cm):\r\n",
        "  #mencari nilai c1 dari frekuensi\r\n",
        "  C1=c1(fc)\r\n",
        "  #mencari nilai c2 dari frekuensi\r\n",
        "  C2=c2(fc)\r\n",
        "  #mencari nilai a(hR)\r\n",
        "  ahR=ahr(fc,hr)\r\n",
        "\r\n",
        "  #rumus cost 231 pathloss model\r\n",
        "  Lp=C1+C2*RezaNurSyaifah.log10(fc)-13.83*RezaNurSyaifah.log10(hT)-ahR+(44.9-6.55*RezaNurSyaifah.log10(hT))*RezaNurSyaifah.log10(d)+Cm\r\n",
        "  print(Lp)\r\n",
        "  return Lp"
      ],
      "execution_count": 7,
      "outputs": []
    },
    {
      "cell_type": "code",
      "metadata": {
        "colab": {
          "base_uri": "https://localhost:8080/"
        },
        "id": "fyIAyaYsF07e",
        "outputId": "283a8fd6-8973-4cfa-b30c-76e9babfbbf9"
      },
      "source": [
        "fc=int(input(\"Frekuensi (150 s.d 2000): \"))    #Mhz 150 s.d 2000\r\n",
        "hT=int(input(\"Tinggi Antena Pengirim (30 s.d 200): \"))     #meter 30 s.d 200\r\n",
        "hr=int(input(\"Tinggi Antena Penerima (2 s.d 30): \"))     #meter 2 s.d 30 \r\n",
        "d=int(input(\"Jarak : \"))      #Km\r\n",
        "# 1=urban   2=suburban    3=open\r\n",
        "area=int(input(\"Masukkan Area (1=Urban || 2=Suburban || 3=Open) : \"))    \r\n",
        "\r\n",
        "#mendapatkan nilai Cm berdasarkan area\r\n",
        "if area==1:\r\n",
        "  Cm=0\r\n",
        "elif area==2:\r\n",
        "  Cm=SbN(fc)\r\n",
        "elif area==3:\r\n",
        "  Cm=Op(fc)\r\n",
        "else: print(\"Tidak Ada Pilihan\")\r\n",
        "\r\n",
        "#menghitung pathloss\r\n",
        "Lp=Ptl(fc, hT, hr, d, Cm)\r\n",
        "print(\"Nilai Pathloss dalam dB =\", Lp,\"dB\")"
      ],
      "execution_count": 8,
      "outputs": [
        {
          "output_type": "stream",
          "text": [
            "Frekuensi (150 s.d 2000): 1600\n",
            "Tinggi Antena Pengirim (30 s.d 200): 50\n",
            "Tinggi Antena Penerima (2 s.d 30): 15\n",
            "Jarak : 30\n",
            "Masukkan Area (1=Urban || 2=Suburban || 3=Open) : 2\n",
            "131.5644936366638\n",
            "Nilai Pathloss dalam dB = 131.5644936366638 dB\n"
          ],
          "name": "stdout"
        }
      ]
    },
    {
      "cell_type": "code",
      "metadata": {
        "id": "fMzSAdJpGKH2"
      },
      "source": [
        ""
      ],
      "execution_count": 8,
      "outputs": []
    }
  ]
}