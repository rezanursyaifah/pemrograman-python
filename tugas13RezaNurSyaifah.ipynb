{
  "nbformat": 4,
  "nbformat_minor": 0,
  "metadata": {
    "colab": {
      "name": "Untitled5.ipynb",
      "provenance": [],
      "authorship_tag": "ABX9TyOvkKglm/mVh1yJ1mjzDyBe",
      "include_colab_link": true
    },
    "kernelspec": {
      "name": "python3",
      "display_name": "Python 3"
    }
  },
  "cells": [
    {
      "cell_type": "markdown",
      "metadata": {
        "id": "view-in-github",
        "colab_type": "text"
      },
      "source": [
        "<a href=\"https://colab.research.google.com/github/rezanursyaifah/pemrograman-python/blob/main/tugas13RezaNurSyaifah.ipynb\" target=\"_parent\"><img src=\"https://colab.research.google.com/assets/colab-badge.svg\" alt=\"Open In Colab\"/></a>"
      ]
    },
    {
      "cell_type": "code",
      "metadata": {
        "id": "T9sjo5fxeQAN"
      },
      "source": [
        "import numpy as np\r\n",
        "import matplotlib.pyplot as plt"
      ],
      "execution_count": 1,
      "outputs": []
    },
    {
      "cell_type": "code",
      "metadata": {
        "id": "cjNWpE2xaUJg"
      },
      "source": [
        "def cos(frek,tipe,ht,hr,d):\r\n",
        "  #frek = frekuensi (MHz)\r\n",
        "  #tipe = urban, suburban, open\r\n",
        "  #ht = tinggi tower (meter)\r\n",
        "  #hr = tinggi user (meter)\r\n",
        "  #d = jarak (meter)\r\n",
        "    if frek in range(150,1501):\r\n",
        "        Ca=69.55\r\n",
        "        Cb=26.16\r\n",
        "    elif frek in range(1501,2001):\r\n",
        "        Ca=46.3\r\n",
        "        Cb=33.9\r\n",
        "    \r\n",
        "    if tipe=='urban' :\r\n",
        "        Cm=0\r\n",
        "    elif tipe=='suburban' :\r\n",
        "        Cm= -2*((np.log10((frek/28)**2))-5.4)\r\n",
        "    elif tipe=='open' :\r\n",
        "        Cm= -4.78*(np.log10(frek))+18.33*(np.log10(frek))-40.94\r\n",
        "    else :\r\n",
        "        Cm='tipe salah'\r\n",
        "    \r\n",
        "    ahr = (1.1*np.log10(frek)-0.7)*hr-(1.56*np.log10(frek)-1.8)\r\n",
        "    Lp = Ca+(Cb*np.log10(frek))-(13.83*np.log(ht))-ahr+((44.9-6.55*np.log10(ht))*np.log10(d))-Cm\r\n",
        "    \r\n",
        "    return Lp"
      ],
      "execution_count": 2,
      "outputs": []
    },
    {
      "cell_type": "code",
      "metadata": {
        "id": "EkiCVyFIad4O"
      },
      "source": [
        "f=1800 #MHz\r\n",
        "loc='urban'\r\n",
        "tower=80 #m\r\n",
        "user=1.5 #m\r\n",
        "dmin=200 #m\r\n",
        "dmax=700 #m\r\n",
        "N=200 #titik\r\n",
        "g=np.random.randint(dmin,dmax,N)"
      ],
      "execution_count": 3,
      "outputs": []
    },
    {
      "cell_type": "code",
      "metadata": {
        "colab": {
          "base_uri": "https://localhost:8080/"
        },
        "id": "kGoBS1DraxS1",
        "outputId": "5c522b18-2203-4b56-a7b9-724d1c4cc294"
      },
      "source": [
        "print(g)"
      ],
      "execution_count": 4,
      "outputs": [
        {
          "output_type": "stream",
          "text": [
            "[578 497 582 291 240 627 409 473 256 502 362 351 610 225 564 372 211 614\n",
            " 430 412 390 342 412 351 422 347 211 552 437 538 228 490 358 617 231 288\n",
            " 543 636 482 430 438 646 416 386 258 584 418 372 667 415 559 574 290 457\n",
            " 323 311 644 510 415 527 334 588 302 448 510 514 582 505 582 314 634 592\n",
            " 265 283 222 568 462 465 292 384 238 663 594 424 447 291 629 602 606 364\n",
            " 459 540 495 597 638 529 386 537 210 568 694 246 305 262 455 475 689 666\n",
            " 377 498 615 560 620 565 558 234 612 623 201 279 640 361 419 636 641 259\n",
            " 468 518 679 625 217 567 561 645 578 405 488 383 327 415 596 689 541 587\n",
            " 655 327 575 588 482 640 510 231 238 607 352 457 676 254 210 334 569 533\n",
            " 278 530 361 649 435 480 224 241 580 586 553 260 630 349 628 332 663 576\n",
            " 275 247 264 305 572 668 307 496 203 283 340 468 392 311 319 371 579 331\n",
            " 438 295]\n"
          ],
          "name": "stdout"
        }
      ]
    },
    {
      "cell_type": "code",
      "metadata": {
        "id": "DOf_WDW1a1nl"
      },
      "source": [
        "LpUrban=cos(f,loc,tower,user,g)"
      ],
      "execution_count": 5,
      "outputs": []
    },
    {
      "cell_type": "code",
      "metadata": {
        "colab": {
          "base_uri": "https://localhost:8080/"
        },
        "id": "7SNhqTvwa7R0",
        "outputId": "f3959ab7-2e12-4d12-cc81-2c73d1bd7243"
      },
      "source": [
        "print(LpUrban)"
      ],
      "execution_count": 6,
      "outputs": [
        {
          "output_type": "stream",
          "text": [
            "[184.58980323 182.46300896 184.68695008 174.92311425 172.20891681\n",
            " 185.73603802 179.71795525 181.76581574 173.11802175 182.60401352\n",
            " 177.99843493 177.56376198 185.34884139 171.29981187 184.24441408\n",
            " 178.38227987 170.39488001 185.44090863 180.42325391 179.8209002\n",
            " 179.04789523 177.19786511 179.8209002  177.56376198 180.15871585\n",
            " 177.40231336 170.39488001 183.94147257 180.65071828 183.57960436\n",
            " 171.48638728 182.26320082 177.84191957 185.5095663  171.67052372\n",
            " 174.77714157 183.70991276 185.9367954  182.03132336 180.42325391\n",
            " 180.68291541 186.15655395 179.95700017 178.902675   173.22764283\n",
            " 184.73527342 180.02456019 178.38227987 186.60718033 179.92309826\n",
            " 184.11897926 184.49198175 174.87462457 181.28108017 176.39271811\n",
            " 175.85942145 186.11287566 182.82672547 179.92309826 183.2886107\n",
            " 176.86444747 184.83142558 175.44576648 181.00090267 182.82672547\n",
            " 182.93677476 184.68695008 182.68794368 184.68695008 175.99465037\n",
            " 185.89242926 184.92692586 173.6047348  174.53044108 171.11073201\n",
            " 184.34396388 181.43435956 181.52553294 174.97143758 178.82949958\n",
            " 172.09103965 186.52245082 184.9744343  180.22531757 180.96942503\n",
            " 174.92311425 185.78089869 185.16288176 185.25616844 178.07604525\n",
            " 181.34259222 183.63187246 182.40620954 185.04539786 185.98102224\n",
            " 183.34196773 178.902675   183.5533974  170.32796189 184.34396388\n",
            " 187.1661492  172.55674281 175.58500555 173.44435845 181.21929832\n",
            " 181.82525143 187.06429599 186.58604568 178.57034992 182.49132302\n",
            " 185.46383172 184.14415574 185.57789095 184.26936756 184.0937577\n",
            " 171.85228415 185.39495023 185.64588579 169.71094774 174.32992186\n",
            " 186.02511066 177.95946883 180.05821908 185.9367954  186.04710322\n",
            " 173.28213511 181.61611999 183.04597095 186.85835318 185.69103403\n",
            " 170.78984712 184.31914231 184.1692873  186.13473173 184.58980323\n",
            " 179.57951445 182.20558832 178.79276882 176.56608938 179.92309826\n",
            " 185.02178304 187.06429599 183.65793397 184.807449   186.35144736\n",
            " 176.56608938 184.51650088 184.83142558 182.03132336 186.02511066\n",
            " 182.82672547 171.67052372 172.09103965 185.2793939  177.60383665\n",
            " 181.28108017 186.79597859 173.00754089 170.32796189 176.86444747\n",
            " 184.36874179 183.44807925 174.27934286 183.36857064 177.95946883\n",
            " 186.22181849 180.5861024  181.97275265 171.23706683 172.26748753\n",
            " 184.63846041 184.78343154 183.96696802 173.3364174  185.80327556\n",
            " 177.48326897 185.75848621 176.77984519 186.52245082 184.5409774\n",
            " 174.12650695 172.61388787 173.55147864 175.58500555 184.44281507\n",
            " 186.62828331 175.67707279 182.43463788 169.85041658 174.53044108\n",
            " 177.11524764 181.61611999 179.11994775 175.85942145 176.2171864\n",
            " 178.34436265 184.61415283 176.73735273 180.68291541 175.11542082]\n"
          ],
          "name": "stdout"
        }
      ]
    },
    {
      "cell_type": "code",
      "metadata": {
        "id": "pv4m7-09a-g-"
      },
      "source": [
        "g_sort=g[np.argsort(g)]\r\n",
        "Urban_sort=LpUrban[np.argsort(g)]"
      ],
      "execution_count": 7,
      "outputs": []
    },
    {
      "cell_type": "code",
      "metadata": {
        "id": "dC9gzKwUbHoo"
      },
      "source": [
        "f=900 #MHz\r\n",
        "loc='urban'\r\n",
        "tower=80 #m\r\n",
        "user=1.5 #m\r\n",
        "dmin=200 #m\r\n",
        "dmax=700 #m\r\n",
        "N=200 #titik\r\n",
        "a=np.random.randint(dmin,dmax,N)"
      ],
      "execution_count": 8,
      "outputs": []
    },
    {
      "cell_type": "code",
      "metadata": {
        "colab": {
          "base_uri": "https://localhost:8080/"
        },
        "id": "upAoVu65bSt2",
        "outputId": "1358d545-88ad-479d-cb68-bc69f714c8f3"
      },
      "source": [
        "print(a)"
      ],
      "execution_count": 9,
      "outputs": [
        {
          "output_type": "stream",
          "text": [
            "[586 222 430 638 309 655 395 274 542 508 220 588 475 422 322 550 644 455\n",
            " 332 366 633 291 383 386 280 416 579 245 291 485 217 569 385 232 328 689\n",
            " 603 560 441 209 677 285 472 330 443 586 249 469 517 437 383 256 381 586\n",
            " 466 587 301 633 437 448 270 578 676 268 456 454 656 383 622 220 289 389\n",
            " 299 324 504 445 676 328 518 271 594 650 390 640 416 687 466 522 312 232\n",
            " 407 293 240 690 200 244 305 602 480 430 200 699 357 426 604 417 323 282\n",
            " 231 474 445 208 342 394 603 567 263 388 326 556 635 328 429 462 268 303\n",
            " 560 471 655 479 442 393 249 278 284 251 546 436 654 259 312 607 377 555\n",
            " 219 574 591 295 214 418 264 338 676 424 216 603 507 424 464 684 216 222\n",
            " 306 297 459 502 324 432 656 437 386 321 306 523 469 693 523 448 223 296\n",
            " 423 226 301 234 208 411 343 694 602 307 392 603 586 404 300 436 691 208\n",
            " 260 336]\n"
          ],
          "name": "stdout"
        }
      ]
    },
    {
      "cell_type": "code",
      "metadata": {
        "id": "IuLTGh4mbX-P"
      },
      "source": [
        "Lpurban1=cos(f,loc,tower,user,a)"
      ],
      "execution_count": 10,
      "outputs": []
    },
    {
      "cell_type": "code",
      "metadata": {
        "colab": {
          "base_uri": "https://localhost:8080/"
        },
        "id": "A3T1peeqbcoH",
        "outputId": "ff1808e4-2603-492d-d0ff-dc1c0e278e4f"
      },
      "source": [
        "print(Lpurban1)"
      ],
      "execution_count": 11,
      "outputs": [
        {
          "output_type": "stream",
          "text": [
            "[174.98977036 161.31707084 170.62959273 176.18736106 165.97488101\n",
            " 176.55778618 169.433679   164.28152974 173.89028616 172.97771555\n",
            " 161.18959271 175.0377644  172.03159025 170.36505467 166.55537864\n",
            " 174.09668161 176.31921448 171.42563715 166.98618401 168.35956913\n",
            " 176.0765325  165.12945307 168.99910764 169.10901382 164.58665872\n",
            " 170.16333899 174.82049165 162.70570381 165.12945307 172.32506415\n",
            " 160.99618595 174.57508061 169.07247363 161.93771032 166.81543965\n",
            " 177.27063481 175.39260023 174.35049456 170.9854064  160.46706318\n",
            " 177.02313965 164.83597917 171.94234241 166.90107053 171.04914514\n",
            " 174.98977036 162.933826   171.8525255  173.22508998 170.8570571\n",
            " 168.99910764 163.32436057 168.92535754 174.98977036 171.76213222\n",
            " 175.01378782 165.60538474 176.0765325  170.8570571  171.20724149\n",
            " 164.07437545 174.79614206 177.00231742 163.96964458 171.45656194\n",
            " 171.39464431 176.57927549 168.99910764 175.82959612 161.18959271\n",
            " 165.03230622 169.21806911 165.51147614 166.64260021 172.86636131\n",
            " 171.11259676 177.00231742 166.81543965 173.25230977 164.12645032\n",
            " 175.18077312 176.44984513 169.25423405 176.23144948 170.16333899\n",
            " 177.22968642 171.76213222 173.36066598 166.11098098 161.93771032\n",
            " 169.85524375 165.22593453 162.41525563 177.29106446 159.84703087\n",
            " 162.6480913  165.79134437 175.36922058 172.17909147 170.62959273\n",
            " 159.84703087 177.47361005 168.00885631 170.49794469 175.41594115\n",
            " 170.19715951 166.59905694 164.68691707 161.87686255 172.00190375\n",
            " 171.11259676 160.39950315 167.40420393 169.39797242 175.39260023\n",
            " 174.52548113 163.70435919 169.18181108 166.72928502 174.24951752\n",
            " 176.12096862 166.81543965 170.59679589 171.64069839 163.96964458\n",
            " 165.69867142 174.35049456 171.91246703 176.55778618 172.14971453\n",
            " 171.01731182 169.3621751  162.933826   164.48568168 164.78646686\n",
            " 163.0465165  173.99386191 170.82478621 176.53626404 163.48847393\n",
            " 166.11098098 175.48573272 168.77668874 174.22415975 161.12541839\n",
            " 174.69832057 175.10945025 165.32175964 160.80008667 170.23089901\n",
            " 163.75781746 167.23848158 177.00231742 170.43165639 160.93112238\n",
            " 175.39260023 172.94995941 170.43165639 171.70154616 177.16803977\n",
            " 160.93112238 161.31707084 165.83745321 165.41693728 171.54893104\n",
            " 172.81035234 166.64260021 170.69495822 176.57927549 170.8570571\n",
            " 169.10901382 166.5115645  165.83745321 173.38762529 171.8525255\n",
            " 177.35217621 173.38762529 171.20724149 161.38037988 165.36942885\n",
            " 170.39839489 161.56861748 165.60538474 162.05862297 160.39950315\n",
            " 169.99300756 167.44533166 177.37248802 175.36922058 165.88341161\n",
            " 169.32628658 175.39260023 174.98977036 169.75102943 165.5585087\n",
            " 170.82478621 177.31146452 160.39950315 163.54275622 167.15488348]\n"
          ],
          "name": "stdout"
        }
      ]
    },
    {
      "cell_type": "code",
      "metadata": {
        "id": "OhGpPaPbbf7S"
      },
      "source": [
        "a_sort=a[np.argsort(a)]\r\n",
        "urban1_sort=Lpurban1[np.argsort(a)]"
      ],
      "execution_count": 13,
      "outputs": []
    },
    {
      "cell_type": "code",
      "metadata": {
        "id": "na-18VdMb0A8"
      },
      "source": [
        "f=700 #MHz\r\n",
        "loc='urban'\r\n",
        "tower=80 #m\r\n",
        "user=1.5 #m\r\n",
        "dmin=200 #m\r\n",
        "dmax=700 #m\r\n",
        "N=200 #titik\r\n",
        "l=np.random.randint(dmin,dmax,N)"
      ],
      "execution_count": 14,
      "outputs": []
    },
    {
      "cell_type": "code",
      "metadata": {
        "colab": {
          "base_uri": "https://localhost:8080/"
        },
        "id": "wbZFKviScE3_",
        "outputId": "c7aaa724-0557-45ab-a6dd-4fec788f25de"
      },
      "source": [
        "print(l)"
      ],
      "execution_count": 15,
      "outputs": [
        {
          "output_type": "stream",
          "text": [
            "[295 519 567 635 419 466 236 224 394 542 405 381 550 681 539 389 442 455\n",
            " 224 497 587 540 572 348 205 424 475 399 598 577 563 224 209 305 532 421\n",
            " 567 676 518 350 570 220 607 217 567 319 664 393 410 227 269 429 254 210\n",
            " 657 253 378 651 559 547 503 244 272 234 501 441 232 357 576 532 266 651\n",
            " 511 371 526 253 333 439 447 583 534 554 242 316 217 224 662 250 239 478\n",
            " 355 445 348 472 293 231 276 202 401 646 263 430 483 401 551 670 678 467\n",
            " 560 597 444 652 470 413 564 304 673 328 295 386 398 678 435 213 657 284\n",
            " 581 698 424 281 549 376 447 232 651 645 483 585 550 596 687 465 566 293\n",
            " 231 321 287 268 574 523 309 664 557 225 544 372 655 220 423 377 387 600\n",
            " 683 257 581 412 223 610 601 669 583 337 226 241 576 344 575 563 415 569\n",
            " 262 654 522 353 618 442 494 696 620 215 528 637 621 256 601 617 461 278\n",
            " 356 631]\n"
          ],
          "name": "stdout"
        }
      ]
    },
    {
      "cell_type": "code",
      "metadata": {
        "id": "pyQDtzgPcJG1"
      },
      "source": [
        "Lpurban2=cos(f,loc,tower,user,l)"
      ],
      "execution_count": 16,
      "outputs": []
    },
    {
      "cell_type": "code",
      "metadata": {
        "colab": {
          "base_uri": "https://localhost:8080/"
        },
        "id": "SuMaK-bOcPQT",
        "outputId": "48d39b55-0453-403f-ebbf-69901e00928d"
      },
      "source": [
        "print(Lpurban2)"
      ],
      "execution_count": 17,
      "outputs": [
        {
          "output_type": "stream",
          "text": [
            "[162.47636332 170.43408075 171.68008481 173.2755723  167.41916158\n",
            " 168.9167359  159.33311025 158.59800934 166.5525761  171.04488984\n",
            " 166.94045696 166.07996122 171.2512853  174.26072582 170.96670516\n",
            " 166.37267279 168.1719155  168.58024083 158.59800934 169.82395147\n",
            " 172.16839151 170.99281497 171.80375758 164.80379183 157.34946056\n",
            " 167.58626007 169.18619393 166.73021071 172.42991566 171.92635398\n",
            " 171.58035882 158.59800934 157.62166686 162.94594806 170.78256872\n",
            " 167.48623903 171.68008481 174.1569211  170.40691345 164.88451548\n",
            " 171.75441869 158.34419639 172.6403364  158.15078963 171.68008481\n",
            " 163.57812891 173.90462353 166.51677878 167.1132964  158.78541216\n",
            " 161.17671103 167.75139957 160.36848339 157.6889044  173.75533574\n",
            " 160.31291631 165.96860698 173.6261033  171.47992176 171.17424096\n",
            " 169.99298835 159.80269499 161.33293708 159.21322666 169.9368678\n",
            " 168.14001008 159.092314   165.16345999 171.90191991 170.78256872\n",
            " 161.01873288 173.6261033  170.21526101 165.70530516 170.62279871\n",
            " 160.31291631 164.18315235 168.07598161 168.33036754 172.07207498\n",
            " 170.8354252  171.35335993 159.68675822 163.44502961 158.15078963\n",
            " 158.59800934 173.86213108 160.14488762 159.51104404 169.27487988\n",
            " 165.08432361 168.26720045 164.80379183 169.09694609 162.38053821\n",
            " 159.03146623 161.53857923 157.14179728 166.80064204 173.51749646\n",
            " 160.85896287 167.78419641 169.42146015 166.80064204 171.27687338\n",
            " 174.03133717 174.19853483 168.94693149 171.50509824 172.40634037\n",
            " 168.23551036 173.64772454 169.03713183 167.21599117 171.60535659\n",
            " 162.89968779 174.09426909 163.97004333 162.47636332 166.26361751\n",
            " 166.69486254 174.19853483 167.9470449  157.88871253 173.75533574\n",
            " 161.94107054 172.02366862 174.60804732 167.58626007 161.79148078\n",
            " 171.22565064 165.89387876 168.33036754 159.092314   173.6261033\n",
            " 173.49567424 169.42146015 172.12031556 171.2512853  172.38272555\n",
            " 174.3842901  168.88647544 171.65521943 162.38053821 159.03146623\n",
            " 163.66616818 162.08908841 161.12424826 171.85292425 170.54222897\n",
            " 163.12948469 173.90462353 171.4294334  158.66075437 171.09677291\n",
            " 165.74322237 173.71238986 158.34419639 167.55299858 165.93129243\n",
            " 166.30006316 172.47694822 174.30203447 160.53388143 172.02366862\n",
            " 167.1818427  158.53498356 172.7097839  172.50040574 174.01029723\n",
            " 172.07207498 164.35134823 158.72322116 159.62843003 171.90191991\n",
            " 164.64094334 171.87744338 171.58035882 167.28404076 171.72968429\n",
            " 160.80530095 173.69086772 170.51526966 165.00474014 172.89332053\n",
            " 168.1719155  169.73866622 174.56762767 172.93883345 158.02036057\n",
            " 170.67625698 173.31986868 172.96153489 160.47896425 172.50040574\n",
            " 172.87050881 168.76477933 161.64028536 165.12394737 173.18655944]\n"
          ],
          "name": "stdout"
        }
      ]
    },
    {
      "cell_type": "code",
      "metadata": {
        "id": "nIDvx72DceYR"
      },
      "source": [
        "l_sort=l[np.argsort(l)]\r\n",
        "urban2_sort=Lpurban2[np.argsort(l)]"
      ],
      "execution_count": 18,
      "outputs": []
    },
    {
      "cell_type": "code",
      "metadata": {
        "colab": {
          "base_uri": "https://localhost:8080/",
          "height": 295
        },
        "id": "fcXgV98OcrZm",
        "outputId": "83eaf776-fd47-46ae-8799-bba14eae4129"
      },
      "source": [
        "plt.figure()\r\n",
        "plt.plot(g_sort,Urban_sort, label='1800 Mhz')\r\n",
        "plt.plot(a_sort,urban1_sort, label='900 Mhz')\r\n",
        "plt.plot(l_sort,urban2_sort, label='700 Mhz')\r\n",
        "plt.legend()\r\n",
        "plt.title('Model Urban (GAMBAR CONTOH)')\r\n",
        "plt.xlabel('Jarak (m)')\r\n",
        "plt.ylabel('Path Loss (dB)')\r\n",
        "plt.show()"
      ],
      "execution_count": 37,
      "outputs": [
        {
          "output_type": "display_data",
          "data": {
            "image/png": "[encoded data removed]",
            "text/plain": [
              "<Figure size 432x288 with 1 Axes>"
            ]
          },
          "metadata": {
            "tags": [],
            "needs_background": "light"
          }
        }
      ]
    },
    {
      "cell_type": "code",
      "metadata": {
        "id": "CNTdt8tcgsRr"
      },
      "source": [
        "f=1800 #MHz\r\n",
        "loc='suburban'\r\n",
        "tower=80 #m\r\n",
        "user=1.5 #m\r\n",
        "dmin=200 #m\r\n",
        "dmax=700 #m\r\n",
        "N=200 #titik\r\n",
        "p=np.random.randint(dmin,dmax,N)"
      ],
      "execution_count": 38,
      "outputs": []
    },
    {
      "cell_type": "code",
      "metadata": {
        "id": "FU1kPiImgxps"
      },
      "source": [
        "Lpsuburban=cos(f,loc,tower,user,p)"
      ],
      "execution_count": 39,
      "outputs": []
    },
    {
      "cell_type": "code",
      "metadata": {
        "colab": {
          "base_uri": "https://localhost:8080/"
        },
        "id": "ONSRwJsRg3gb",
        "outputId": "dbe3f805-9f29-4d45-c6ed-3a84cf8f7eff"
      },
      "source": [
        "print(Lpsuburban)\r\n"
      ],
      "execution_count": 40,
      "outputs": [
        {
          "output_type": "stream",
          "text": [
            "[166.42097595 177.147497   168.46418699 181.57192113 180.99786937\n",
            " 180.9734353  181.02226113 173.87530722 180.32280069 169.32864454\n",
            " 170.14310475 176.95364664 179.17607848 181.54846361 180.03822055\n",
            " 171.83150381 175.15147661 174.11610347 178.78163805 175.33513289\n",
            " 183.01850358 180.85062513 180.82593408 170.09024827 170.66103948\n",
            " 183.18669946 180.47563659 178.69565872 169.15994507 179.58678505\n",
            " 176.42327858 182.6759642  179.03647141 182.61080031 175.58829417\n",
            " 176.88843246 178.98023885 176.59117374 174.66245263 167.73226976\n",
            " 177.46476802 180.37393046 175.83698578 182.41348013 180.47563659\n",
            " 183.20758343 173.46460065 175.94223836 171.87822438 177.95799083\n",
            " 182.21335658 175.33513289 180.77642177 173.29690536 174.77682055\n",
            " 178.46378126 167.41571178 179.03647141 178.75303655 172.69373271\n",
            " 179.88053714 183.29081107 178.19827363 177.01856029 181.82740812\n",
            " 183.0607412  175.44418818 180.6017452  182.39138407 175.04012237\n",
            " 166.89393963 167.09187596 182.52344351 167.66952473 176.72406376\n",
            " 167.91884517 178.58019711 178.83866743 174.62412271 169.7688753\n",
            " 171.30708246 180.47563659 181.04661072 179.28677639 181.98761076\n",
            " 180.14237066 171.25842529 182.28038084 183.22843649 182.25807483\n",
            " 177.62076338 178.83866743 168.6413747  166.14340564 179.36923265\n",
            " 179.14826754 182.78390525 177.8972742  178.86709577 182.41348013\n",
            " 175.94223836 172.38217605 169.21640301 179.09248038 178.86709577\n",
            " 168.46418699 175.69541436 183.33224121 181.47785576 168.52349755\n",
            " 173.58907484 170.50764881 182.16849591 180.24575635 166.35209446\n",
            " 177.33871583 166.21331267 178.75303655 183.31154137 176.69095861\n",
            " 166.76041979 182.50151941 182.78390525 171.9247905  180.29716603\n",
            " 176.01197235 177.05090528 169.3844317  168.52349755 166.89393963\n",
            " 183.43528657 183.65936738 183.0607412  175.33513289 174.35285253\n",
            " 169.7688753  176.49067697 178.72437685 173.99621987 169.93047826\n",
            " 181.98761076 179.77442562 176.25335809 179.12040158 175.26195747\n",
            " 172.82517601 181.73503902 180.87527297 176.52425562 179.8540841\n",
            " 178.78163805 181.45424093 175.18839993 169.32864454 167.54318991\n",
            " 170.40445247 179.14826754 177.86681746 180.85062513 174.03629454\n",
            " 168.10298162 173.83477126 169.04634577 167.60649895 174.54714854\n",
            " 179.53271113 171.40389547 174.27437747 173.12718961 171.40389547\n",
            " 182.52344351 177.74432766 177.74432766 183.31154137 180.50094879\n",
            " 176.01197235 166.07314994 174.77682055 182.25807483 169.87681634\n",
            " 177.71353806 175.18839993 171.78462777 183.01850358 167.22230502\n",
            " 179.9858553  183.41473772 174.96539415 176.49067697 181.47785576\n",
            " 182.6759642  182.50151941 182.41348013 181.75818814 172.82517601\n",
            " 169.98393654 182.52344351 175.22522671 176.98614086 181.68862633]\n"
          ],
          "name": "stdout"
        }
      ]
    },
    {
      "cell_type": "code",
      "metadata": {
        "id": "xb5apj6Sg6YD"
      },
      "source": [
        "p_sort=p[np.argsort(p)]\r\n",
        "suburban_sort1=Lpsuburban[np.argsort(p)]"
      ],
      "execution_count": 41,
      "outputs": []
    },
    {
      "cell_type": "code",
      "metadata": {
        "id": "d2odi1qrhBX_"
      },
      "source": [
        "f=1800 #MHz\r\n",
        "loc='urban'\r\n",
        "tower=80 #m\r\n",
        "user=1.5 #m\r\n",
        "dmin=200 #m\r\n",
        "dmax=700 #m\r\n",
        "N=200 #titik\r\n",
        "r=np.random.randint(dmin,dmax,N)"
      ],
      "execution_count": 42,
      "outputs": []
    },
    {
      "cell_type": "code",
      "metadata": {
        "colab": {
          "base_uri": "https://localhost:8080/"
        },
        "id": "-DwUo95_hPBT",
        "outputId": "0dde91aa-6a99-4744-d7f6-814ec046afc4"
      },
      "source": [
        "print(r)"
      ],
      "execution_count": 43,
      "outputs": [
        {
          "output_type": "stream",
          "text": [
            "[219 200 503 464 530 366 459 383 672 451 656 355 345 693 675 694 421 619\n",
            " 398 304 657 388 560 488 631 475 412 559 324 684 679 484 590 328 357 278\n",
            " 618 584 540 237 681 366 300 391 216 421 561 496 689 639 511 679 376 669\n",
            " 509 306 237 328 387 309 235 431 583 330 460 331 483 282 509 376 253 242\n",
            " 587 571 509 542 480 534 308 329 683 306 282 666 338 685 501 513 396 251\n",
            " 335 480 204 267 583 665 341 243 291 660 238 489 664 604 262 289 303 536\n",
            " 476 300 455 520 293 369 265 445 540 288 688 367 313 698 579 406 532 278\n",
            " 326 504 250 288 372 530 545 380 601 500 690 229 231 241 548 474 229 699\n",
            " 661 406 687 425 547 320 571 457 239 555 277 436 322 487 422 483 613 441\n",
            " 254 307 312 413 373 620 684 514 527 374 657 358 468 366 577 479 581 603\n",
            " 468 331 665 374 334 425 449 314 626 220 358 691 361 629 676 635 694 216\n",
            " 214 381]\n"
          ],
          "name": "stdout"
        }
      ]
    },
    {
      "cell_type": "code",
      "metadata": {
        "id": "db56vc9xhTmW"
      },
      "source": [
        "LpUrban3=cos(f,loc,tower,user,r)"
      ],
      "execution_count": 44,
      "outputs": []
    },
    {
      "cell_type": "code",
      "metadata": {
        "colab": {
          "base_uri": "https://localhost:8080/"
        },
        "id": "7_yVS6LFhfbb",
        "outputId": "671b5dde-77c6-44a8-995d-526abf8c4c1e"
      },
      "source": [
        "print(LpUrban3)"
      ],
      "execution_count": 45,
      "outputs": [
        {
          "output_type": "stream",
          "text": [
            "[170.91907957 169.64069205 182.63204584 181.49520734 183.36857064\n",
            " 178.15323031 181.34259222 178.79276882 186.7123805  181.09491573\n",
            " 186.37293666 177.72338111 177.3208898  187.14583739 186.77512553\n",
            " 187.1661492  180.12529653 185.55515287 179.33392003 175.53874529\n",
            " 186.39439323 178.97547226 184.14415574 182.20558832 185.82561694\n",
            " 181.82525143 179.8209002  184.11897926 176.43626138 186.96170094\n",
            " 186.85835318 182.08965155 184.87925665 176.60910082 177.80251748\n",
            " 174.27934286 185.53237803 184.73527342 183.63187246 172.03172909\n",
            " 186.89978332 178.15323031 175.35216988 179.08396756 170.72478356\n",
            " 180.12529653 184.1692873  182.43463788 187.06429599 186.0030837\n",
            " 182.8543185  186.85835318 178.53293625 186.64935472 182.79907828\n",
            " 175.63111439 172.03172909 176.60910082 178.93912065 175.76854219\n",
            " 171.91235348 180.45597456 184.71113247 176.69473171 181.37324781\n",
            " 176.73735273 182.06051765 174.48057824 182.79907828 178.53293625\n",
            " 172.9519738  172.32581571 184.807449   184.41816723 182.79907828\n",
            " 183.68394734 181.97275265 183.4744827  175.72288173 176.65198134\n",
            " 186.94109196 175.63111439 174.48057824 186.58604568 177.03214275\n",
            " 186.98227982 182.5759253  182.90934294 179.26295647 172.84017768\n",
            " 176.90655882 181.97275265 169.91963656 173.71064686 184.71113247\n",
            " 186.56487928 177.15661694 172.38390337 174.92311425 186.45856755\n",
            " 172.09103965 182.23442403 186.54368103 185.20960232 173.44435845\n",
            " 174.82596739 175.4923326  183.52714159 181.85487549 175.35216988\n",
            " 181.21929832 183.10025324 175.0195957  178.26822064 173.6047348\n",
            " 180.90625794 183.63187246 174.77714157 187.04383667 178.19166482\n",
            " 175.94971816 187.24710481 184.61415283 179.61425242 183.42162621\n",
            " 174.27934286 176.5229462  182.66002249 172.78394512 174.77714157\n",
            " 178.38227987 183.36857064 183.76170046 178.68199836 185.13946324\n",
            " 182.54778096 187.08472564 171.54803393 171.67052372 172.26748753\n",
            " 183.83902675 181.79556493 171.54803393 187.26727123 186.47989418\n",
            " 179.61425242 187.0233476  180.25850071 183.81329845 176.26127482\n",
            " 184.41816723 181.28108017 172.15010153 184.01782092 174.22858158\n",
            " 180.61844739 176.34903982 182.17669346 180.15871585 182.06051765\n",
            " 185.41794817 180.77906757 173.00754089 175.67707279 175.90464216\n",
            " 179.85504867 178.42009529 185.57789095 186.96170094 182.93677476\n",
            " 183.2886107  178.45780947 186.39439323 177.84191957 181.61611999\n",
            " 178.15323031 184.56541147 181.94337571 184.66272611 185.18626141\n",
            " 181.61611999 176.73735273 186.56487928 178.45780947 176.86444747\n",
            " 180.25850071 181.03231012 175.99465037 185.713554   170.98325388\n",
            " 177.84191957 187.10512569 177.95946883 185.78089869 186.79597859\n",
            " 185.91462979 187.1661492  170.72478356 170.59374784 178.71901871]\n"
          ],
          "name": "stdout"
        }
      ]
    },
    {
      "cell_type": "code",
      "metadata": {
        "id": "D9Mz_dHkhiVI"
      },
      "source": [
        "r_sort=r[np.argsort(r)]\r\n",
        "Urban3_sort2=LpUrban3[np.argsort(r)]"
      ],
      "execution_count": 46,
      "outputs": []
    },
    {
      "cell_type": "code",
      "metadata": {
        "id": "goc-uvmghrCM"
      },
      "source": [
        "f=1800 #MHz\r\n",
        "loc='open'\r\n",
        "tower=80 #m\r\n",
        "user=1.5 #m\r\n",
        "dmin=200 #m\r\n",
        "dmax=700 #m\r\n",
        "N=200 #titik\r\n",
        "k=np.random.randint(dmin,dmax,N)"
      ],
      "execution_count": 52,
      "outputs": []
    },
    {
      "cell_type": "code",
      "metadata": {
        "colab": {
          "base_uri": "https://localhost:8080/"
        },
        "id": "DXVvt1SwhyAT",
        "outputId": "33c9e10d-2941-4ea4-95f8-39f69e57934c"
      },
      "source": [
        "print(k)"
      ],
      "execution_count": 53,
      "outputs": [
        {
          "output_type": "stream",
          "text": [
            "[572 626 343 395 489 414 531 416 653 599 284 539 268 371 624 410 693 408\n",
            " 489 350 559 320 303 470 696 388 295 268 380 579 421 288 406 550 315 368\n",
            " 625 280 534 426 473 453 693 561 214 326 225 215 279 325 321 398 444 680\n",
            " 250 235 646 469 556 427 330 279 522 362 562 458 597 579 325 340 390 653\n",
            " 646 260 472 261 447 410 698 278 358 620 635 635 262 280 279 682 574 696\n",
            " 267 570 667 296 267 358 378 237 439 629 389 543 691 685 472 590 316 615\n",
            " 318 286 265 525 483 215 470 318 511 596 607 305 372 656 392 335 604 405\n",
            " 322 433 402 274 301 453 599 234 201 255 303 546 584 507 662 675 416 607\n",
            " 393 683 234 316 429 589 411 623 595 504 372 380 611 696 616 474 447 346\n",
            " 369 681 240 500 662 361 335 652 265 564 464 268 518 651 643 624 501 372\n",
            " 659 335 390 221 472 257 533 407 321 207 650 426 689 592 579 596 496 622\n",
            " 699 326]\n"
          ],
          "name": "stdout"
        }
      ]
    },
    {
      "cell_type": "code",
      "metadata": {
        "id": "SlxMn0tCh2N1"
      },
      "source": [
        "Lpopen=cos(f,loc,tower,user,k)"
      ],
      "execution_count": 54,
      "outputs": []
    },
    {
      "cell_type": "code",
      "metadata": {
        "colab": {
          "base_uri": "https://localhost:8080/"
        },
        "id": "ITykiy0mh6k4",
        "outputId": "02375b24-c9e8-4a13-edfe-14b083c68bb6"
      },
      "source": [
        "print(Lpopen)"
      ],
      "execution_count": 55,
      "outputs": [
        {
          "output_type": "stream",
          "text": [
            "[181.27387263 182.54461155 174.07005039 176.05839773 179.06548158\n",
            " 176.72017211 180.22618096 176.78805773 183.1394277  181.92356662\n",
            " 171.41118559 180.43682021 170.59436331 175.17542021 182.49953555\n",
            " 176.58341145 183.97689495 176.51452995 179.06548158 174.35463053\n",
            " 180.95003681 173.09233237 172.32339016 178.50724688 184.03774272\n",
            " 175.80652981 171.94647837 170.59436331 175.51305591 181.44521038\n",
            " 176.95635408 171.60819912 176.44530998 180.72140035 172.87049728\n",
            " 175.06105229 182.52209158 171.21137746 180.30554025 177.12266342\n",
            " 178.59687329 177.98830187 183.97689495 181.00034486 167.4248054\n",
            " 173.35400375 168.13086942 167.49047562 171.16097942 173.31072803\n",
            " 173.13628323 176.16497759 177.70562541 183.71014103 169.61500267\n",
            " 168.74341104 182.98761151 178.47724423 180.87423625 177.15569096\n",
            " 173.52578927 171.16097942 179.98538471 174.82949249 181.02543166\n",
            " 178.14292732 181.87645542 181.44521038 173.31072803 173.9463052\n",
            " 175.87895279 183.1394277  182.98761151 170.16747496 178.56706114\n",
            " 170.22154887 177.80048259 176.58341145 184.07816237 171.11040041\n",
            " 174.67297713 182.4089485  182.74568735 182.74568735 170.275416\n",
            " 171.21137746 171.16097942 183.75151034 181.3230393  184.03774272\n",
            " 170.54170442 181.22453374 183.43823788 171.99414758 170.54170442\n",
            " 174.67297713 175.43872203 168.86278665 177.54609666 182.61195624\n",
            " 175.84278784 180.54097032 183.93618325 183.81333738 178.56706114\n",
            " 181.71031421 172.91514466 182.29488928 173.00401711 171.51003679\n",
            " 170.43579236 180.06610836 178.89157521 167.49047562 178.50724688\n",
            " 173.00401711 179.68537606 181.8528406  182.11045145 172.41606311\n",
            " 175.21333742 183.20399422 175.95100531 173.73761638 182.04065988\n",
            " 176.41057201 173.18009738 177.3522463  176.30584114 170.90624847\n",
            " 172.23010347 177.98830187 181.92356662 168.68334171 166.5420053\n",
            " 169.89394719 172.32339016 180.61858064 181.56633097 179.57467814\n",
            " 183.33224613 183.60618309 176.78805773 182.11045145 175.98689383\n",
            " 183.77214952 168.68334171 172.91514466 177.22151462 181.68641898\n",
            " 176.6177263  182.47694335 181.82918612 179.49108004 175.21333742\n",
            " 175.51305591 182.20297223 184.03774272 182.31777513 178.62662249\n",
            " 177.80048259 174.19271797 175.0992782  183.73084087 169.03997436\n",
            " 179.37883851 183.33224613 174.79052638 173.73761638 183.11783959\n",
            " 170.43579236 181.07547164 178.32626489 170.59436331 179.8770285\n",
            " 183.09621835 182.92204318 182.49953555 179.40698285 175.21333742\n",
            " 183.26826614 173.73761638 175.87895279 167.87819471 178.56706114\n",
            " 170.00399648 180.2791368  176.47996248 173.13628323 166.95633627\n",
            " 183.07456387 177.12266342 183.89535355 181.75798342 181.44521038\n",
            " 181.8528406  179.26569543 182.45431485 184.09832878 173.35400375]\n"
          ],
          "name": "stdout"
        }
      ]
    },
    {
      "cell_type": "code",
      "metadata": {
        "id": "iYjOb24oh9L0"
      },
      "source": [
        "k_sort=k[np.argsort(k)]\r\n",
        "open_sort3=Lpopen[np.argsort(k)]"
      ],
      "execution_count": 56,
      "outputs": []
    },
    {
      "cell_type": "code",
      "metadata": {
        "colab": {
          "base_uri": "https://localhost:8080/",
          "height": 295
        },
        "id": "fGTQj4cgiE-g",
        "outputId": "fd3aa75d-a8f3-405a-93c0-3c3cf653e7a7"
      },
      "source": [
        "plt.figure()\r\n",
        "plt.plot(p_sort,suburban_sort1,label='suburban')\r\n",
        "plt.plot(r_sort,Urban3_sort2,label='Urban')\r\n",
        "plt.plot(k_sort,open_sort3,label='open')\r\n",
        "plt.legend()\r\n",
        "plt.title('Frekuensi 1800 Mhz (GAMBAR CONTOH)')\r\n",
        "plt.xlabel('Jarak (m)')\r\n",
        "plt.ylabel('Path Loss (dB)')\r\n",
        "plt.show()"
      ],
      "execution_count": 57,
      "outputs": [
        {
          "output_type": "display_data",
          "data": {
            "image/png": "[encoded data removed]",
            "text/plain": [
              "<Figure size 432x288 with 1 Axes>"
            ]
          },
          "metadata": {
            "tags": [],
            "needs_background": "light"
          }
        }
      ]
    },
    {
      "cell_type": "code",
      "metadata": {
        "id": "RTkFhgUPicEn"
      },
      "source": [
        ""
      ],
      "execution_count": null,
      "outputs": []
    }
  ]
}